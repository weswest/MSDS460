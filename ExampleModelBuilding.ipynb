{
  "nbformat": 4,
  "nbformat_minor": 0,
  "metadata": {
    "colab": {
      "provenance": [],
      "authorship_tag": "ABX9TyNliPUsAjuH+Tge/hBxG0AM",
      "include_colab_link": true
    },
    "kernelspec": {
      "name": "python3",
      "display_name": "Python 3"
    },
    "language_info": {
      "name": "python"
    }
  },
  "cells": [
    {
      "cell_type": "markdown",
      "metadata": {
        "id": "view-in-github",
        "colab_type": "text"
      },
      "source": [
        "<a href=\"https://colab.research.google.com/github/weswest/MSDS460/blob/master/ExampleModelBuilding.ipynb\" target=\"_parent\"><img src=\"https://colab.research.google.com/assets/colab-badge.svg\" alt=\"Open In Colab\"/></a>"
      ]
    },
    {
      "cell_type": "markdown",
      "source": [
        "# Import Your Functions"
      ],
      "metadata": {
        "id": "NsVlG_cI1NC7"
      }
    },
    {
      "cell_type": "code",
      "execution_count": 1,
      "metadata": {
        "id": "R0pOhJ2jZdjN"
      },
      "outputs": [],
      "source": [
        "import os\n",
        "import datetime\n",
        "import json\n",
        "\n",
        "import numpy as np\n",
        "import pandas as pd\n",
        "from packaging import version\n",
        "\n",
        "from sklearn.metrics import confusion_matrix, classification_report\n",
        "from sklearn.metrics import accuracy_score\n",
        "from sklearn.metrics import mean_squared_error as MSE\n",
        "from sklearn.model_selection import train_test_split\n",
        "\n",
        "import matplotlib.pyplot as plt\n",
        "import seaborn as sns\n",
        "\n",
        "import tensorflow as tf\n",
        "from tensorflow import keras\n",
        "from tensorflow.keras import models, layers\n",
        "from tensorflow.keras.models import Sequential\n",
        "from tensorflow.keras.layers import Conv2D, MaxPool2D, BatchNormalization, Dropout, Flatten, Dense\n",
        "from tensorflow.keras.callbacks import ModelCheckpoint, EarlyStopping\n",
        "from tensorflow.keras.preprocessing import image\n",
        "from tensorflow.keras.utils import to_categorical\n",
        "\n",
        "import random\n",
        "\n",
        "random_seed = 458\n",
        "random.seed(random_seed)\n",
        "np.random.seed(random_seed)\n",
        "tf.random.set_seed(random_seed)\n",
        "\n",
        "import csv\n",
        "import pickle\n",
        "\n",
        "%matplotlib inline\n",
        "np.set_printoptions(precision=3, suppress=True) \n"
      ]
    },
    {
      "cell_type": "markdown",
      "source": [
        "# Point you colab environment to the appropriate folder within your Google Drive space\n",
        "\n",
        "This is a life-saver.  Yeah, you can just search for whatever, but why pollute your top level google drive with a bunch of stuff?\n",
        "\n",
        "Note: the \"folder\" callout is used later when saving down models."
      ],
      "metadata": {
        "id": "PAFNKlDl1QlQ"
      }
    },
    {
      "cell_type": "code",
      "execution_count": 2,
      "metadata": {
        "colab": {
          "base_uri": "https://localhost:8080/"
        },
        "id": "LY-Y-nn_bGvX",
        "outputId": "236628d4-de80-4265-fe61-b60868bbc9e0"
      },
      "outputs": [
        {
          "output_type": "stream",
          "name": "stdout",
          "text": [
            "Mounted at /content/drive\n"
          ]
        }
      ],
      "source": [
        "folder = 'train'\n",
        "\n",
        "from google.colab import drive\n",
        "drive.mount('/content/drive')\n",
        "try:\n",
        "  os.chdir(\"drive/My Drive/MSDS/458/A2_CIFAR\")\n",
        "except:\n",
        "  pass"
      ]
    },
    {
      "cell_type": "markdown",
      "source": [
        "# Code pulled from the TA's github to get started\n",
        "\n",
        "This block does all of the data preprocessing from the TA codebase.  There's more here, but this is an example file not a full-blown assignment.  Do your homework."
      ],
      "metadata": {
        "id": "vc2lJ3le1dSn"
      }
    },
    {
      "cell_type": "code",
      "execution_count": 3,
      "metadata": {
        "colab": {
          "base_uri": "https://localhost:8080/"
        },
        "id": "2dala9eobdN6",
        "outputId": "dca2c8c4-f270-4fbe-e64d-7f8680d68973"
      },
      "outputs": [
        {
          "output_type": "stream",
          "name": "stdout",
          "text": [
            "Downloading data from https://www.cs.toronto.edu/~kriz/cifar-10-python.tar.gz\n",
            "170498071/170498071 [==============================] - 6s 0us/step\n"
          ]
        }
      ],
      "source": [
        "(x_train, y_train), (x_test, y_test) = keras.datasets.cifar10.load_data()"
      ]
    },
    {
      "cell_type": "code",
      "execution_count": 4,
      "metadata": {
        "id": "bw2Sc8_MVd0v"
      },
      "outputs": [],
      "source": [
        "x_train_split, x_valid_split, y_train_split, y_valid_split = train_test_split(x_train\n",
        "                                                                              ,y_train\n",
        "                                                                              ,test_size=.1\n",
        "                                                                              ,random_state=42\n",
        "                                                                              ,shuffle=True)\n",
        "\n",
        "x_train_norm = x_train_split/255\n",
        "x_valid_norm = x_valid_split/255\n",
        "x_test_norm = x_test/255"
      ]
    },
    {
      "cell_type": "markdown",
      "source": [
        "# Functions\n",
        "\n",
        "I've got a full-time job, a kid, and a life outside of work and school.  I don't have the luxury of sitting down and working on only my homework in eight-hour chunks.  I therefore often need to write code, hit \"run\", and come back later to see how it performed.\n",
        "\n",
        "The one downside is that there are a bunch of aspects of model development that most easily live \"in state\".  Keras has the ModelCheckpoint callback that will save down the structure of the model, but there are other aspects of training that I'd love to have available, including:\n",
        "\n",
        "* Per-Epoch training and validation loss and accuracy\n",
        "* Number of epochs needed to train the model\n",
        "* Total time spent training the model.\n",
        "\n",
        "The functions below help out with that.  *italicized text*"
      ],
      "metadata": {
        "id": "p-7MmbC61qNs"
      }
    },
    {
      "cell_type": "markdown",
      "source": [
        "## Build Model Function\n",
        "\n",
        "There are two functions defined in here: the \"fit model\" function and the \"build or load model\" function.\n",
        "\n",
        "### Fit Model\n",
        "\n",
        "The fit model function takes as inputs a keras model's structure and a text reference name.  It then compiles and fits the model based on a user-defined template.\n",
        "\n",
        "The function also captures the start / end time of the model building process.  It then saves down:\n",
        "* The resultant model .h5 file and the model's training history file into a model-specific folder\n",
        "* The time to process in a top-level locally saved dictionary of model training times\n",
        "\n",
        "# Build or Load Model\n",
        "\n",
        "This function is essentially a controller function that checks whether the model we want to build already exists.  If it exists, then it loads the model; if it doesn't exist then it runs the \"fit model\" function and builds it for you.\n",
        "\n",
        "What this means is that, in practice, you can define a line of, e.g.,:\n",
        "\n",
        "model = build_or_load_model(details)\n",
        "\n",
        "And know that if you need to restart your Colab session that already-existing models will be loaded and new models will be rebuilt."
      ],
      "metadata": {
        "id": "l673N2nj2S56"
      }
    },
    {
      "cell_type": "code",
      "execution_count": 5,
      "metadata": {
        "id": "5PaXY7qyOynG"
      },
      "outputs": [],
      "source": [
        "def fit_model(modelName_keras, modelName_str, \n",
        "              x_train = x_train_norm, y_train = y_train_split, \n",
        "              x_val = x_valid_norm, y_val = y_valid_split):\n",
        "  \n",
        "  model_filename = folder + modelName_str + '/' + modelName_str + '.h5'\n",
        "  start = datetime.datetime.now()\n",
        "  modelName_keras.compile(optimizer='adam',\n",
        "              loss=tf.keras.losses.SparseCategoricalCrossentropy(from_logits=False),\n",
        "              metrics=['accuracy'])\n",
        "  history = modelName_keras.fit(\n",
        "    x_train\n",
        "    ,y_train\n",
        "    ,epochs = 200\n",
        "    ,batch_size = 64\n",
        "    ,validation_data=(x_valid_norm, y_valid_split)\n",
        "    ,callbacks=[tf.keras.callbacks.ModelCheckpoint(model_filename,save_best_only=True,save_weights_only=False)\n",
        "                ,tf.keras.callbacks.EarlyStopping(monitor='val_accuracy', patience=3)] \n",
        "    )\n",
        "  end = datetime.datetime.now()\n",
        "  time_diff = end - start\n",
        "  print('Build time: ', time_diff)\n",
        "  writeTime(modelName_str, time_diff.total_seconds())\n",
        "  hist_filename = folder + modelName_str + '/' + modelName_str + 'hist'\n",
        "  with open(hist_filename, 'wb') as file_pi:\n",
        "    pickle.dump(history.history, file_pi)\n",
        "\n",
        "def build_or_load_model(modelName_keras, modelName_str, \n",
        "                        force_rebuild = False, \n",
        "                        x_train = x_train_norm, y_train = y_train_split, \n",
        "                        x_val = x_valid_norm, y_val = y_valid_split):\n",
        "\n",
        "  model_filename = folder + modelName_str + '/' + modelName_str + '.h5'\n",
        "  if force_rebuild:\n",
        "    fit_model(modelName_keras, modelName_str, x_train, y_train, x_val, y_val)\n",
        "  \n",
        "  if os.path.exists(model_filename):\n",
        "    print('Model already exists!  Loading and saving you some time!')\n",
        "  else:\n",
        "    print('Building the model!')\n",
        "    fit_model(modelName_keras, modelName_str, x_train, y_train, x_val, y_val)\n",
        "  model = keras.models.load_model(model_filename)\n",
        "  return model"
      ]
    },
    {
      "cell_type": "markdown",
      "source": [
        "### Time-Save Function\n",
        "\n",
        "The \"writeTime\" function references a user-defined file name where model training times will be saved.  This function is used in the above model-building function to write training times into this locally-saved file\n",
        "\n",
        "The printModelTime function loads the dictionary and prints out all of the model times."
      ],
      "metadata": {
        "id": "6hxduiDL3lzG"
      }
    },
    {
      "cell_type": "code",
      "execution_count": 6,
      "metadata": {
        "id": "9ruPQZLdxhWh"
      },
      "outputs": [],
      "source": [
        "## These functions create a saved-down dictionary of how long it took each model to execute\n",
        "\n",
        "def writeTime(modelName_str, modelTime_value):\n",
        "  modelTime_file = 'modelTime.json'\n",
        "\n",
        "  try:\n",
        "    with open(modelTime_file) as json_file:\n",
        "      modelTime_dict = json.load(json_file)\n",
        "\n",
        "  except:\n",
        "    modelTime_dict = {}\n",
        "\n",
        "  modelTime_dict[modelName_str] = modelTime_value\n",
        "\n",
        "  with open(modelTime_file, \"w\") as outfile:\n",
        "    json.dump(modelTime_dict, outfile)\n",
        "\n",
        "def printModelTime():\n",
        "  with open('modelTime.json') as json_file:\n",
        "    times = json.load(json_file)\n",
        "  \n",
        "  for key, value in times.items():\n",
        "    print(key, '\\t:\\t', value)"
      ]
    },
    {
      "cell_type": "markdown",
      "source": [
        "## Plot_Acc_Loss\n",
        "\n",
        "One of the nice things about keras is that simple commands can spit out the accuracy and loss graphs from the training environment.  These functions don't work well when you save-and-then-load your history data.\n",
        "\n",
        "So I coded my own.  Shrug."
      ],
      "metadata": {
        "id": "DoNcIhbK36Je"
      }
    },
    {
      "cell_type": "code",
      "execution_count": 7,
      "metadata": {
        "id": "fTCRKD-3pIOp"
      },
      "outputs": [],
      "source": [
        "# plot acc loss takes in a history dict and spits out the train/validation accuracy and loss graphs\n",
        "# Note: the way the code is structured, saving the history file down and then loading it, deletes the \"history.history\" item\n",
        "\n",
        "def plot_acc_loss(history_file, model_name_str = 'No Name Given'):\n",
        "  loss_train = history_file['loss']\n",
        "  loss_val = history_file['val_loss']\n",
        "  acc_train = history_file['accuracy']\n",
        "  acc_val = history_file['val_accuracy']\n",
        "  epochs = len(loss_train)\n",
        "  epochs_x = list(range(1,epochs+1))\n",
        "\n",
        "  fig, (ax1, ax2) = plt.subplots(1,2)\n",
        "  fig.set_size_inches(15,6)\n",
        "  ax1.set_title(model_name_str + ' modeled losses')\n",
        "  ax1.plot(epochs_x, loss_train, label = 'Training Loss')\n",
        "  ax1.plot(epochs_x, loss_val, label = 'Validation Loss')\n",
        "  ax1.legend()\n",
        "\n",
        "  ax2.set_title(model_name_str + ' modeled accuracy')\n",
        "  ax2.plot(epochs_x, acc_train, label = 'Training Acc')\n",
        "  ax2.plot(epochs_x, acc_val, label = 'Validation Acc')\n",
        "  ax2.legend()\n",
        "  \n",
        "  plt.show()\n",
        "\n",
        "#plot_acc_loss(historyE1, model_filename)"
      ]
    },
    {
      "cell_type": "markdown",
      "source": [
        "# Actually Building the Model\n",
        "\n",
        "The code below is a simplified example of what I write when I create a new model.\n",
        "\n",
        "The first bundle of code figures out if the target folder exists, and if not then it creates the folder.  I should probably shove this into the build_or_load function.  Oh well.\n",
        "\n",
        "The second bundle is where you build out the model structure.  Do whatever you want here.\n",
        "\n",
        "And then you get the model = build_or_load_model(details).  This is what triggers a build if the model doesn't exist and a load if it does."
      ],
      "metadata": {
        "id": "5d_ySsx24G7K"
      }
    },
    {
      "cell_type": "code",
      "execution_count": 8,
      "metadata": {
        "colab": {
          "base_uri": "https://localhost:8080/"
        },
        "id": "6QECs_r7b5PO",
        "outputId": "0cc998d3-ca8c-4893-ab99-0378ead9c44a"
      },
      "outputs": [
        {
          "output_type": "stream",
          "name": "stdout",
          "text": [
            "Model: \"sequential\"\n",
            "_________________________________________________________________\n",
            " Layer (type)                Output Shape              Param #   \n",
            "=================================================================\n",
            " flatten (Flatten)           (None, 3072)              0         \n",
            "                                                                 \n",
            " dense (Dense)               (None, 384)               1180032   \n",
            "                                                                 \n",
            " output_layer (Dense)        (None, 10)                3850      \n",
            "                                                                 \n",
            "=================================================================\n",
            "Total params: 1,183,882\n",
            "Trainable params: 1,183,882\n",
            "Non-trainable params: 0\n",
            "_________________________________________________________________\n",
            "Building the model!\n",
            "Epoch 1/200\n",
            "704/704 [==============================] - 9s 11ms/step - loss: 1.9224 - accuracy: 0.3249 - val_loss: 1.7956 - val_accuracy: 0.3424\n",
            "Epoch 2/200\n",
            "704/704 [==============================] - 9s 12ms/step - loss: 1.7129 - accuracy: 0.3899 - val_loss: 1.7178 - val_accuracy: 0.3798\n",
            "Epoch 3/200\n",
            "704/704 [==============================] - 8s 12ms/step - loss: 1.6479 - accuracy: 0.4132 - val_loss: 1.6528 - val_accuracy: 0.4096\n",
            "Epoch 4/200\n",
            "704/704 [==============================] - 8s 12ms/step - loss: 1.5994 - accuracy: 0.4304 - val_loss: 1.6129 - val_accuracy: 0.4172\n",
            "Epoch 5/200\n",
            "704/704 [==============================] - 8s 12ms/step - loss: 1.5640 - accuracy: 0.4447 - val_loss: 1.6129 - val_accuracy: 0.4196\n",
            "Epoch 6/200\n",
            "704/704 [==============================] - 8s 12ms/step - loss: 1.5417 - accuracy: 0.4546 - val_loss: 1.5903 - val_accuracy: 0.4346\n",
            "Epoch 7/200\n",
            "704/704 [==============================] - 8s 11ms/step - loss: 1.5330 - accuracy: 0.4532 - val_loss: 1.6106 - val_accuracy: 0.4248\n",
            "Epoch 8/200\n",
            "704/704 [==============================] - 8s 12ms/step - loss: 1.5109 - accuracy: 0.4636 - val_loss: 1.5819 - val_accuracy: 0.4324\n",
            "Epoch 9/200\n",
            "704/704 [==============================] - 8s 12ms/step - loss: 1.4964 - accuracy: 0.4688 - val_loss: 1.5493 - val_accuracy: 0.4404\n",
            "Epoch 10/200\n",
            "704/704 [==============================] - 8s 11ms/step - loss: 1.4812 - accuracy: 0.4762 - val_loss: 1.5811 - val_accuracy: 0.4324\n",
            "Epoch 11/200\n",
            "704/704 [==============================] - 8s 11ms/step - loss: 1.4719 - accuracy: 0.4760 - val_loss: 1.5312 - val_accuracy: 0.4534\n",
            "Epoch 12/200\n",
            "704/704 [==============================] - 8s 11ms/step - loss: 1.4537 - accuracy: 0.4839 - val_loss: 1.5674 - val_accuracy: 0.4462\n",
            "Epoch 13/200\n",
            "704/704 [==============================] - 8s 11ms/step - loss: 1.4417 - accuracy: 0.4892 - val_loss: 1.5497 - val_accuracy: 0.4518\n",
            "Epoch 14/200\n",
            "704/704 [==============================] - 8s 11ms/step - loss: 1.4355 - accuracy: 0.4910 - val_loss: 1.5054 - val_accuracy: 0.4646\n",
            "Epoch 15/200\n",
            "704/704 [==============================] - 7s 11ms/step - loss: 1.4146 - accuracy: 0.4965 - val_loss: 1.5066 - val_accuracy: 0.4672\n",
            "Epoch 16/200\n",
            "704/704 [==============================] - 8s 11ms/step - loss: 1.4126 - accuracy: 0.4996 - val_loss: 1.5327 - val_accuracy: 0.4530\n",
            "Epoch 17/200\n",
            "704/704 [==============================] - 7s 11ms/step - loss: 1.4008 - accuracy: 0.5031 - val_loss: 1.5253 - val_accuracy: 0.4550\n",
            "Epoch 18/200\n",
            "704/704 [==============================] - 9s 12ms/step - loss: 1.3951 - accuracy: 0.5043 - val_loss: 1.5174 - val_accuracy: 0.4688\n",
            "Epoch 19/200\n",
            "704/704 [==============================] - 8s 11ms/step - loss: 1.3853 - accuracy: 0.5095 - val_loss: 1.5312 - val_accuracy: 0.4530\n",
            "Epoch 20/200\n",
            "704/704 [==============================] - 8s 11ms/step - loss: 1.3822 - accuracy: 0.5103 - val_loss: 1.5965 - val_accuracy: 0.4368\n",
            "Epoch 21/200\n",
            "704/704 [==============================] - 8s 11ms/step - loss: 1.3725 - accuracy: 0.5110 - val_loss: 1.5563 - val_accuracy: 0.4490\n",
            "Build time:  0:02:47.429528\n"
          ]
        }
      ],
      "source": [
        "model_filename = 'model_example'\n",
        "model_foldername = folder + model_filename\n",
        "if os.path.exists(model_foldername) == False:\n",
        "  os.makedirs(model_foldername)\n",
        "  \n",
        "model_example = Sequential()\n",
        "model_example.add(layers.Flatten(input_shape=(32, 32, 3)))\n",
        "model_example.add(layers.Dense(units = 384, activation = tf.nn.relu))\n",
        "model_example.add(layers.Dense(name = 'output_layer', units=10, activation = tf.nn.softmax))\n",
        "\n",
        "model_example.summary()\n",
        "#keras.utils.plot_model(model_example, model_foldername + '/' + model_filename + '.png', show_shapes=True) \n",
        "\n",
        "model = build_or_load_model (model_example, model_filename)"
      ]
    },
    {
      "cell_type": "markdown",
      "source": [],
      "metadata": {
        "id": "c76IL3n04eRA"
      }
    },
    {
      "cell_type": "code",
      "source": [
        "# And now in future iterations, if you need to load the model at some later date, \n",
        "# just call the same command again and...\n",
        "\n",
        "model = build_or_load_model (model_example, model_filename)"
      ],
      "metadata": {
        "id": "DLw4n_OF0aVq",
        "colab": {
          "base_uri": "https://localhost:8080/"
        },
        "outputId": "d03ce47e-b3fd-415c-d43e-2cd924b44010"
      },
      "execution_count": 9,
      "outputs": [
        {
          "output_type": "stream",
          "name": "stdout",
          "text": [
            "Model already exists!  Loading and saving you some time!\n"
          ]
        }
      ]
    },
    {
      "cell_type": "markdown",
      "source": [
        "## Call Model Training Time\n",
        "\n",
        "Embedded in the \"build model\" code is a series of commands that records the amount of time it takes the model to be trained and then saves it into a local json file.\n",
        "\n",
        "The printModelTime function loads the json file and prints out the models and number of seconds spent training each model.\n",
        "\n",
        "Note: the approach used is approximate, from a timing perspective.  There are more official ways of doing this using customized keras callbacks, but this approach works well enough, in my opinion."
      ],
      "metadata": {
        "id": "ptbwJg4T0tH8"
      }
    },
    {
      "cell_type": "code",
      "source": [
        "printModelTime()"
      ],
      "metadata": {
        "id": "2kiTKM9u0lwB",
        "colab": {
          "base_uri": "https://localhost:8080/"
        },
        "outputId": "487a944f-1ffd-443d-801a-8182d84c6058"
      },
      "execution_count": 10,
      "outputs": [
        {
          "output_type": "stream",
          "name": "stdout",
          "text": [
            "modelE1 \t:\t 173.164711\n",
            "modelE2 \t:\t 191.590793\n",
            "modelE3 \t:\t 3979.453872\n",
            "modelE4 \t:\t 5624.836163\n",
            "modelE5 \t:\t 213.04032\n",
            "modelE6 \t:\t 311.452065\n",
            "modelE7 \t:\t 5411.720533\n",
            "model_example \t:\t 167.429528\n"
          ]
        }
      ]
    },
    {
      "cell_type": "markdown",
      "source": [
        "# And then do other stuff to evaluate the model\n",
        "\n",
        "One of the advantages here is that you can genericize your model evaluations by only referencing \"model\", since the \"model\" pointer gets loaded with the specific model being evaluated in the build_or_load stage."
      ],
      "metadata": {
        "id": "gq2jzcVbPldK"
      }
    },
    {
      "cell_type": "code",
      "source": [
        "history = pickle.load(open(model_foldername + '/' + model_filename + 'hist', \"rb\"))\n",
        "plot_acc_loss(history, model_filename)"
      ],
      "metadata": {
        "colab": {
          "base_uri": "https://localhost:8080/",
          "height": 390
        },
        "id": "orxAutA7PzIi",
        "outputId": "9cc86363-f208-4916-c924-aff4722bf19c"
      },
      "execution_count": 11,
      "outputs": [
        {
          "output_type": "display_data",
          "data": {
            "text/plain": [
              "<Figure size 1080x432 with 2 Axes>"
            ],
            "image/png": "[encoded data removed]"
          },
          "metadata": {
            "needs_background": "light"
          }
        }
      ]
    }
  ]
}